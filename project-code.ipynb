{
 "cells": [
  {
   "cell_type": "code",
   "execution_count": 178,
   "metadata": {},
   "outputs": [],
   "source": [
    "import pandas as pd\n",
    "import random\n",
    "import numpy as np\n",
    "\n",
    "#goal: generate SQL code for inserting into database\n",
    "#there are ways to insert directly from database but not sure if that's allowed"
   ]
  },
  {
   "cell_type": "code",
   "execution_count": 179,
   "metadata": {},
   "outputs": [],
   "source": [
    "filename = \"C:/Projects/3241-project/Proj Data CSV.csv\"\n",
    "filename1 = \"C:/Projects/3241-project/Proj Data Unix.csv\""
   ]
  },
  {
   "cell_type": "code",
   "execution_count": 180,
   "metadata": {},
   "outputs": [],
   "source": [
    "#create dataframe from csv\n",
    "df = pd.read_csv(filename1, encoding=\"latin-1\")"
   ]
  },
  {
   "cell_type": "code",
   "execution_count": 181,
   "metadata": {},
   "outputs": [],
   "source": [
    "#fill na values (multiple author books) with the information from the book that they describe\n",
    "df=df.fillna(method = 'ffill')"
   ]
  },
  {
   "cell_type": "code",
   "execution_count": 182,
   "metadata": {},
   "outputs": [],
   "source": [
    "#select subset of columns wanted for the table and drop duplicate rows and na; then rename columns\n",
    "books = df[['ISBN','Title', 'Year', 'Price', 'Publisher']].drop_duplicates()\n",
    "books.dropna(inplace=True)\n",
    "books.rename(columns={'Publisher' : 'CompanyName'},inplace=True)\n",
    "#give value to name attribute (for loop later)\n",
    "books.name = 'Book'\n",
    "\n",
    "#TODO: is format really required? it seems like it could possibly create some complicated edge cases in the warehouse (e.g. book not being in stock because it's an ebook)"
   ]
  },
  {
   "cell_type": "code",
   "execution_count": 183,
   "metadata": {},
   "outputs": [],
   "source": [
    "genres = df[['ISBN', 'Category']].drop_duplicates()\n",
    "genres.dropna(inplace=True)\n",
    "genres.rename(columns={'ISBN' : 'BookISBN', 'Category' : 'BookGenre'},inplace=True)\n",
    "genres.name = 'Genre'"
   ]
  },
  {
   "cell_type": "code",
   "execution_count": 184,
   "metadata": {},
   "outputs": [],
   "source": [
    "#read in base csv file with names\n",
    "customer_file = \"C:/Projects/3241-project/customers.csv\"\n",
    "customer_names = pd.read_csv(customer_file)\n",
    "\n",
    "address_file = \"C:/Projects/3241-project/addresses.csv\"\n",
    "addresses = pd.read_csv(address_file)\n",
    "\n",
    "customer = pd.DataFrame(columns=['AccountNumber','AccountBalance','CFirstName', 'CLastName', 'StreetAddress', 'City', 'State', 'Zip', 'Email'])\n",
    "\n",
    "#assign columns\n",
    "customer['CFirstName'] = customer_names['CFirstName']\n",
    "customer['CLastName'] = customer_names['CLastName']\n",
    "customer['StreetAddress'] = addresses['StreetAddress']\n",
    "\n",
    "#randomly generate cities, states, and zips and assign to each customer\n",
    "cities_and_states = [('Columbus','OH',43210),('Cincinnati','OH',43220),('Los Angeles','CA',90210),('New York','NY',10021)]\n",
    "city_st_zip = [random.choice(cities_and_states) for x in range(len(customer))]\n",
    "customer['City'] = [city_st_zip[x][0] for x in range(len(customer))]\n",
    "customer['State'] = [city_st_zip[x][1] for x in range(len(customer))]\n",
    "customer['Zip'] = [city_st_zip[x][2] for x in range(len(customer))]\n",
    "\n",
    "#assign ids and generate account balance\n",
    "customer['AccountNumber'] = [x for x in range(len(customer))]\n",
    "customer['AccountBalance'] = [round(random.uniform(10,200), 2) for x in range(len(customer))]\n",
    "\n",
    "#generate emails\n",
    "last_lower = [customer['CLastName'][x].lower() for x in range(len(customer))]\n",
    "customer['Email'] = [(lname + \".\" + str(random.randint(1,30)) + \"@gmail.com\") for lname in last_lower]\n",
    "\n",
    "customer.name = 'Customer'"
   ]
  },
  {
   "cell_type": "code",
   "execution_count": 185,
   "metadata": {},
   "outputs": [],
   "source": [
    "#randomly generate info for each order\n",
    "order = pd.DataFrame(columns=['ID', 'ShippingAddress', 'TrackingNumber', 'DatePurchased', 'AccountNumber', 'CardNumber'])\n",
    "num_entries_order = 50\n",
    "order['ID'] = [x for x in range(num_entries_order)]\n",
    "order['ShippingAddress'] = [random.choice(addresses['StreetAddress']) for x in range(num_entries_order)]\n",
    "order['TrackingNumber'] = [x for x in range(num_entries_order)]\n",
    "#date purchased is in format YYYY-MM-DD\n",
    "order['DatePurchased'] = [\"2023-\"+str(random.randint(1, 12))+\"-\"+ str(random.randint(1, 30))\n",
    "                          for x in range(num_entries_order)]\n",
    "#account number is random selection from range of customer ids, which start at 0\n",
    "order['AccountNumber'] = [random.randint(0,len(customer)) for x in range(num_entries_order)]\n",
    "\n",
    "order.name = 'Order'\n",
    "#TODO\n",
    "#ordertotal is derived attribute so not needed in table; need to revise that later\n",
    "#what exactly is orderbalance?\n",
    "\n",
    "#if decide to add, add 'OrderTotal', 'OrderBalance' to columms in correct place"
   ]
  },
  {
   "cell_type": "code",
   "execution_count": 186,
   "metadata": {},
   "outputs": [
    {
     "data": {
      "text/html": [
       "<div>\n",
       "<style scoped>\n",
       "    .dataframe tbody tr th:only-of-type {\n",
       "        vertical-align: middle;\n",
       "    }\n",
       "\n",
       "    .dataframe tbody tr th {\n",
       "        vertical-align: top;\n",
       "    }\n",
       "\n",
       "    .dataframe thead th {\n",
       "        text-align: right;\n",
       "    }\n",
       "</style>\n",
       "<table border=\"1\" class=\"dataframe\">\n",
       "  <thead>\n",
       "    <tr style=\"text-align: right;\">\n",
       "      <th></th>\n",
       "      <th>ID</th>\n",
       "      <th>ShippingAddress</th>\n",
       "      <th>TrackingNumber</th>\n",
       "      <th>DatePurchased</th>\n",
       "      <th>AccountNumber</th>\n",
       "      <th>CardNumber</th>\n",
       "    </tr>\n",
       "  </thead>\n",
       "  <tbody>\n",
       "    <tr>\n",
       "      <th>0</th>\n",
       "      <td>0</td>\n",
       "      <td>236 West 11th Avenue</td>\n",
       "      <td>0</td>\n",
       "      <td>2023-3-27</td>\n",
       "      <td>15</td>\n",
       "      <td>NaN</td>\n",
       "    </tr>\n",
       "    <tr>\n",
       "      <th>1</th>\n",
       "      <td>1</td>\n",
       "      <td>1810 Cannon Dr</td>\n",
       "      <td>1</td>\n",
       "      <td>2023-7-6</td>\n",
       "      <td>7</td>\n",
       "      <td>NaN</td>\n",
       "    </tr>\n",
       "    <tr>\n",
       "      <th>2</th>\n",
       "      <td>2</td>\n",
       "      <td>1810 Cannon Dr</td>\n",
       "      <td>2</td>\n",
       "      <td>2023-10-14</td>\n",
       "      <td>1</td>\n",
       "      <td>NaN</td>\n",
       "    </tr>\n",
       "    <tr>\n",
       "      <th>3</th>\n",
       "      <td>3</td>\n",
       "      <td>1858 Neil Ave</td>\n",
       "      <td>3</td>\n",
       "      <td>2023-3-22</td>\n",
       "      <td>19</td>\n",
       "      <td>NaN</td>\n",
       "    </tr>\n",
       "    <tr>\n",
       "      <th>4</th>\n",
       "      <td>4</td>\n",
       "      <td>93 West 12th Avenue</td>\n",
       "      <td>4</td>\n",
       "      <td>2023-9-10</td>\n",
       "      <td>10</td>\n",
       "      <td>NaN</td>\n",
       "    </tr>\n",
       "  </tbody>\n",
       "</table>\n",
       "</div>"
      ],
      "text/plain": [
       "   ID       ShippingAddress  TrackingNumber DatePurchased  AccountNumber   \n",
       "0   0  236 West 11th Avenue               0     2023-3-27             15  \\\n",
       "1   1        1810 Cannon Dr               1      2023-7-6              7   \n",
       "2   2        1810 Cannon Dr               2    2023-10-14              1   \n",
       "3   3         1858 Neil Ave               3     2023-3-22             19   \n",
       "4   4   93 West 12th Avenue               4     2023-9-10             10   \n",
       "\n",
       "  CardNumber  \n",
       "0        NaN  \n",
       "1        NaN  \n",
       "2        NaN  \n",
       "3        NaN  \n",
       "4        NaN  "
      ]
     },
     "execution_count": 186,
     "metadata": {},
     "output_type": "execute_result"
    }
   ],
   "source": [
    "order.head()"
   ]
  },
  {
   "cell_type": "code",
   "execution_count": 187,
   "metadata": {},
   "outputs": [],
   "source": [
    "#generates random card information to be associated with each account\n",
    "#this does not take cases with +1 cards/account into consideration, but card number is extra functionality anyway\n",
    "card = pd.DataFrame(columns=['Number', 'CardCompany', 'CVV', 'NameOnCard', 'ExpirationDate', 'Type', 'StreetAddress', 'City', 'State', 'Zip', 'AccountNumber'])\n",
    "num_entries_card = len(customer)\n",
    "card['Number'] = [random.randint(1000000000000000,10000000000000000) for x in range(num_entries_card)]\n",
    "card['CardCompany'] = [random.choice(['Discover','Capitol One', 'VISA', 'MasterCard']) for x in range(num_entries_card)]\n",
    "card['NameOnCard'] = customer['CFirstName'] + ' ' + customer['CLastName']\n",
    "card['CVV'] = [random.randint(100, 999) for x in range(num_entries_card)]\n",
    "card['ExpirationDate'] = [(str(random.randint(1, 13))+\"/\"+ str(random.randint(23, 33)))\n",
    "                            for x in range(num_entries_card)]\n",
    "card['Type'] = [random.choice(['Debit','Credit']) for x in range(num_entries_card)]\n",
    "card['StreetAddress'] = customer['StreetAddress']\n",
    "card['City'] = customer['City']\n",
    "card['State'] = customer['State']\n",
    "card['Zip'] = customer['Zip']\n",
    "card['AccountNumber'] = customer['AccountNumber']\n",
    "\n",
    "card.name = 'Card'\n",
    "\n",
    "#find card number associated with order\n",
    "#TODO: this card number will not necessarily be connected to the account\n",
    "order['CardNumber'] = [random.choice(card['Number'].to_list()) for x in range(num_entries_order)]"
   ]
  },
  {
   "cell_type": "code",
   "execution_count": 188,
   "metadata": {},
   "outputs": [],
   "source": [
    "warehouse = pd.DataFrame()\n",
    "#create based on the cities and states we've already defined\n",
    "warehouse['City'] = [x[0] for x in cities_and_states]\n",
    "warehouse['State'] = [x[1] for x in cities_and_states]\n",
    "\n",
    "warehouse.name = 'Warehouse'"
   ]
  },
  {
   "cell_type": "code",
   "execution_count": 189,
   "metadata": {},
   "outputs": [],
   "source": [
    "publisher = df[['Publisher']].drop_duplicates()\n",
    "publisher.dropna(inplace=True)\n",
    "publisher['Supplier'] = [random.choice(['Supplier1','Supplier2','Supplier3']) for x in range(len(publisher))]\n",
    "\n",
    "publisher.name = 'Publisher'"
   ]
  },
  {
   "cell_type": "code",
   "execution_count": 190,
   "metadata": {},
   "outputs": [],
   "source": [
    "#function that splits author into first, middle, last names\n",
    "#param: full author name string; returns tuple of strings (fname, mname, lname)\n",
    "def split(authorName):\n",
    "    names = authorName.split(' ')\n",
    "    fname = '' ; mname = '' ; lname = ''\n",
    "    if len(names) == 2:\n",
    "        fname = names[0]\n",
    "        lname = names[1]\n",
    "    elif len(names) == 3:\n",
    "        fname = names[0]\n",
    "        mname = names[1]\n",
    "        lname = names[2]\n",
    "    elif len(names) == 4:\n",
    "        fname = names[0]\n",
    "        mname = names[1] + ' ' + names[2]\n",
    "        lname = names[3]\n",
    "    return((fname,mname,lname))"
   ]
  },
  {
   "cell_type": "code",
   "execution_count": 191,
   "metadata": {},
   "outputs": [],
   "source": [
    "#split authors by spaces\n",
    "authors = pd.DataFrame()\n",
    "authors['Author(s)'] = df[['Author(s)']]\n",
    "authors.drop_duplicates(inplace=True)\n",
    "authors.dropna(inplace=True)\n",
    "author_tuples = [x.strip('\\\"') for x in df['Author(s)']]\n",
    "author_tuples = [x.strip() for x in author_tuples]\n",
    "author_tuples = [split(x) for x in author_tuples]"
   ]
  },
  {
   "cell_type": "code",
   "execution_count": 192,
   "metadata": {},
   "outputs": [],
   "source": [
    "#create new dataframe based on this\n",
    "authors['AFname']=pd.Series([x[0] for x in author_tuples])\n",
    "authors['AMname']=pd.Series([x[1] for x in author_tuples])\n",
    "authors['ALname']=pd.Series([x[2] for x in author_tuples])\n",
    "#format authors dataframe\n",
    "authors.drop_duplicates(inplace=True)\n",
    "authors.dropna(inplace=True)\n",
    "authors_export = authors[['AFname','AMname','ALname']]\n",
    "\n",
    "authors.name = 'Author'"
   ]
  },
  {
   "cell_type": "code",
   "execution_count": 193,
   "metadata": {},
   "outputs": [],
   "source": [
    "ratings = pd.DataFrame(columns=['AccountNumber', 'Rating', 'ISBN'])\n",
    "num_ratings = 50\n",
    "ratings['AccountNumber'] = [random.choice(customer['AccountNumber'].to_list()) for x in range(num_ratings)]\n",
    "ratings['Rating'] = [round(random.uniform(1,5), 1) for x in range(num_ratings)]\n",
    "ratings['ISBN'] = [random.choice(books['ISBN'].to_list()) for x in range(num_ratings)]\n",
    "\n",
    "ratings.name = 'Rating'"
   ]
  },
  {
   "cell_type": "code",
   "execution_count": 194,
   "metadata": {},
   "outputs": [],
   "source": [
    "#join the books and authors dataframe\n",
    "written_by = df[['ISBN','Author(s)']]\n",
    "written_by=written_by.join(authors.set_index(\"Author(s)\"), on=\"Author(s)\")\n",
    "written_by=written_by[['ISBN','AFname','AMname','ALname']]\n",
    "\n",
    "written_by.name = 'WrittenBy'"
   ]
  },
  {
   "cell_type": "code",
   "execution_count": 195,
   "metadata": {},
   "outputs": [],
   "source": [
    "order_contains = pd.DataFrame(columns=['ID', 'ISBN', 'NumberOfBooks', 'OrderDate'])\n",
    "#loop through orders\n",
    "#note: try to avoid for loops in python if possible but i am too lazy to figure out how to do this in a more pythonic way\n",
    "for i in range(0,len(order)):\n",
    "    #choose random number for the number of titles in the order\n",
    "    num_books_in_order = random.randint(1,5)\n",
    "    id = order.iloc[i]['ID']\n",
    "    date=order.iloc[i]['DatePurchased']\n",
    "    #choose book titles and quantities of each title\n",
    "    for book in range(0,num_books_in_order):\n",
    "        isbn = random.choice(books['ISBN'].to_list())\n",
    "        num_books = random.randint(1,5)\n",
    "        order_contains.loc[len(order_contains.index)] = [id,isbn,num_books,date]\n",
    "\n",
    "order_contains.name = 'OrderContains'"
   ]
  },
  {
   "cell_type": "code",
   "execution_count": 196,
   "metadata": {},
   "outputs": [],
   "source": [
    "stored_in = pd.DataFrame(columns=['ISBN', 'City', 'State', 'NumberOfBooks'])\n",
    "stored_in_length = 25\n",
    "stored_in['ISBN'] = [random.choice(books['ISBN'].to_list()) for x in range(stored_in_length)]\n",
    "city_st = [random.choice(cities_and_states) for x in range(stored_in_length)]\n",
    "stored_in['City'] = [city_st[x][0] for x in range(stored_in_length)]\n",
    "stored_in['State'] = [city_st[x][1] for x in range(stored_in_length)]\n",
    "stored_in['NumberOfBooks'] = [random.randint(0,50) for x in range(stored_in_length)]\n",
    "\n",
    "stored_in.name = 'StoredIn'"
   ]
  },
  {
   "cell_type": "code",
   "execution_count": 197,
   "metadata": {},
   "outputs": [],
   "source": [
    "#close stream. just like software!\n",
    "output_filename = \"C:/Projects/3241-project/output.txt\"\n",
    "\n",
    "#create output file\n",
    "output_file = open(output_filename,\"w\")"
   ]
  },
  {
   "cell_type": "code",
   "execution_count": 198,
   "metadata": {},
   "outputs": [],
   "source": [
    "def create_query_text(df, output):\n",
    "    #initial command\n",
    "    create = 'INSERT INTO ' + df.name + ' VALUES ' \n",
    "    output.write(create)\n",
    "\n",
    "    #loop through rows in dataframe to create\n",
    "    #generally you want to avoid for loops in python but here we're working with a stream\n",
    "    #so i think it's kind of unavoidable\n",
    "    #loop through rows first\n",
    "    for i in range(len(df)):\n",
    "        #create string so everything stays on one line\n",
    "        string_out = '('\n",
    "\n",
    "        #loop through attributes next\n",
    "        for col in range(len(df.columns)):\n",
    "            #print comma if not last\n",
    "            if(col < len(df.columns)-1):\n",
    "                string_out += str(df.iloc[i][col]) + ','\n",
    "            else:\n",
    "                string_out += str(df.iloc[i][col]) \n",
    "\n",
    "        #print comma if not last\n",
    "        if(i < len(df)-1):\n",
    "            string_out += '),'\n",
    "        else:\n",
    "                string_out += ')' \n",
    "        output.write(string_out)"
   ]
  },
  {
   "cell_type": "code",
   "execution_count": 199,
   "metadata": {},
   "outputs": [],
   "source": [
    "list_of_db = [books, genres, customer, order, card, warehouse, publisher]\n",
    "\n",
    "for db in list_of_db:\n",
    "    create_query_text(db,output_file)\n",
    "\n",
    "list_of_db_2 = [authors, ratings, written_by, order_contains, stored_in]\n",
    "for db in list_of_db_2:\n",
    "    create_query_text(db,output_file)\n"
   ]
  },
  {
   "cell_type": "code",
   "execution_count": 200,
   "metadata": {},
   "outputs": [],
   "source": [
    "output_file.close()"
   ]
  }
 ],
 "metadata": {
  "kernelspec": {
   "display_name": "Python 3",
   "language": "python",
   "name": "python3"
  },
  "language_info": {
   "codemirror_mode": {
    "name": "ipython",
    "version": 3
   },
   "file_extension": ".py",
   "mimetype": "text/x-python",
   "name": "python",
   "nbconvert_exporter": "python",
   "pygments_lexer": "ipython3",
   "version": "3.11.3"
  }
 },
 "nbformat": 4,
 "nbformat_minor": 2
}
